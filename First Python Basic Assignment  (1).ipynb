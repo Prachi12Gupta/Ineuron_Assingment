{
 "cells": [
  {
   "cell_type": "markdown",
   "id": "82b32011",
   "metadata": {},
   "source": [
    "Que1. In the below elements which of them are values or an expression? eg:- values can be\n",
    "integer or string and expressions will be mathematical operators.\n",
    "*\n",
    "'hello'\n",
    "-87.8\n",
    "-\n",
    "/\n",
    "+\n",
    "6\n",
    "\n",
    "Ans- * is Mathemalical operator\n",
    "hello is String\n",
    "-87.8 is integer\n",
    "-,/,+ is mathematical operators\n",
    "6 is integer\n"
   ]
  },
  {
   "cell_type": "markdown",
   "id": "608462ce",
   "metadata": {},
   "source": [
    "Ques2. What is the difference between string and variable?\n",
    "\n",
    "Ans-\n",
    "String is a collection of alphabets, words or other characters. It is one of the primitive data structures and are the building blocks for data manipulation. Python has a built-in string class named str. Python strings are \"immutable\" which means they cannot be changed after they are created. \n",
    "\n",
    "Variable-Variables are nothing but reserved memory locations to store values. It means that when you create a variable, you reserve some space in the memory.\n",
    "\n",
    "Based on the data type of a variable, the interpreter allocates memory and decides what can be stored in the reserved memory. Therefore, by assigning different data types to the variables, you can store integers, decimals or characters in these variables.\n"
   ]
  },
  {
   "cell_type": "markdown",
   "id": "b8077874",
   "metadata": {},
   "source": [
    "Ques3. Describe three different data types.\n",
    "\n",
    "Ans-Numbers-Number stores numeric values. The integer, float, and complex values belong to a Python Numbers data types.\n",
    "\n",
    "    Int - Integer value can be any length such as integers 10, 2, 29, -20, -150 etc. Python has no restriction on the length of     an integer. Its value belongs to int\n",
    "\n",
    "    Float - Float is used to store floating-point numbers like 1.9, 9.902, 15.2, etc. It is accurate upto 15 decimal points.\n",
    "\n",
    "    complex - A complex number contains an ordered pair, i.e., x + iy where x and y denote the real and imaginary parts,           respectively. The complex numbers like 2.14j, 2.0 + 2.3j, etc.\n",
    "\n",
    "Sequence Type-String,list and tuples comes under sequence data type\n",
    "\n",
    "    String-String is a collection of alphabets, words or other characters. It is one of the primitive data structures\n",
    "    \n",
    "    List-Python Lists are similar to arrays in C. However, the list can contain data of different types. The items stored in       the list are separated with a comma (,) and enclosed within square brackets [].\n",
    "    \n",
    "    Tuple-A tuple is similar to the list in many ways. Like lists, tuples also contain the collection of the items of different     data types. The items of the tuple are separated with a comma (,) and enclosed in parentheses ().\n",
    "\n",
    "    A tuple is a read-only data structure as we can't modify the size and value of the items of a tuple.\n",
    "\n",
    "Boolean-Boolean type provides two built-in values, True and False. These values are used to determine the given statement true or false."
   ]
  },
  {
   "cell_type": "markdown",
   "id": "2114dcc9",
   "metadata": {},
   "source": [
    "Ques4-What is an expression made up of? What do all expressions do?\n",
    "\n",
    "Ans-An expression is a construct made up of variables, operators, and method invocations, which are constructed according       to the syntax of the language, that evaluates to a single value. "
   ]
  },
  {
   "cell_type": "markdown",
   "id": "8fa9d1ec",
   "metadata": {},
   "source": [
    "5. This assignment statements, like spam = 10. What is the difference between an\n",
    "expression and a statement?\n",
    "\n",
    "Ans-An expression is any legal combination of symbols that represents a value. For example, 2.9, a + 5, (3 + 5) / 4. A statement is a programming instruction that does something i.e. some action takes place. For example: print(\"Hello\")"
   ]
  },
  {
   "cell_type": "markdown",
   "id": "adca2520",
   "metadata": {},
   "source": [
    "6. After running the following code, what does the variable bacon contain?\n",
    "bacon = 22\n",
    "bacon + 1\n",
    "\n",
    "The bacon variable is set to 22. The bacon + 1 expression does not reassign the value in bacon (that would need an assignment statement: bacon = bacon + 1)"
   ]
  },
  {
   "cell_type": "markdown",
   "id": "36675488",
   "metadata": {},
   "source": [
    "7. What should the values of the following two terms be?\n",
    "1.'spam'+'spamspam'\n",
    "2.'spam'*3\n",
    "\n",
    "Ans\n",
    "1.'spam'+'spamspam'=spamspamspam\n",
    "2.'spam'*3=spamspamspam\n"
   ]
  },
  {
   "cell_type": "markdown",
   "id": "31d35179",
   "metadata": {},
   "source": [
    "8. Why is eggs a valid variable name while 100 is invalid?\n",
    "Ans-100 is invalid because Variable names cannot begin with a number So,eggs is valid variable name."
   ]
  },
  {
   "cell_type": "markdown",
   "id": "8e4642f9",
   "metadata": {},
   "source": [
    "9. What three functions can be used to get the integer, floating-point number, or string\n",
    "version of a value?\n",
    "\n",
    "The int(), float(), and str() functions will evaluate to the integer, floating-point number, and string versions of the value passed to them."
   ]
  },
  {
   "cell_type": "markdown",
   "id": "8238a44a",
   "metadata": {},
   "source": [
    "10.Why does this expression cause an error? How can you fix it?\n",
    "\n",
    "'I have eaten ' + 99 + ' burritos'.\n",
    "\n",
    "Ans-The expression causes an error because 99 is an integer, and only strings can be concatenated to other strings with the + operator. The correct way is\n",
    "\n",
    "I have eaten ' + str(99) + ' burritos.'.\n"
   ]
  }
 ],
 "metadata": {
  "kernelspec": {
   "display_name": "Python 3",
   "language": "python",
   "name": "python3"
  },
  "language_info": {
   "codemirror_mode": {
    "name": "ipython",
    "version": 3
   },
   "file_extension": ".py",
   "mimetype": "text/x-python",
   "name": "python",
   "nbconvert_exporter": "python",
   "pygments_lexer": "ipython3",
   "version": "3.8.8"
  }
 },
 "nbformat": 4,
 "nbformat_minor": 5
}
